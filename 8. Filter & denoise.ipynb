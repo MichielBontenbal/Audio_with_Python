{
 "cells": [
  {
   "cell_type": "markdown",
   "id": "03e3399d",
   "metadata": {},
   "source": [
    "# Filter & denoise\n",
    "\n",
    "### Contents\n",
    "0. Install packages\n",
    "1. Denoising data with the FFT and iFFT\n",
    "2. Using the NoiseReduce package (issue)\n",
    "3. Low-pass filter with scipy.signal (in progress, issues)"
   ]
  },
  {
   "cell_type": "markdown",
   "id": "526dece4",
   "metadata": {},
   "source": [
    "## 0. Install packages"
   ]
  },
  {
   "cell_type": "code",
   "execution_count": null,
   "id": "fd6094cd",
   "metadata": {},
   "outputs": [],
   "source": [
    "# Install noisereduce. Uncomment if necessary\n",
    "!pip install noisereduce"
   ]
  },
  {
   "cell_type": "markdown",
   "id": "7f6238f9",
   "metadata": {},
   "source": [
    "## 1. Denoising data with the FFT\n",
    "source: https://www.youtube.com/watch?v=s2K1JfNR7Sc"
   ]
  },
  {
   "cell_type": "code",
   "execution_count": null,
   "id": "044b5b30",
   "metadata": {},
   "outputs": [],
   "source": [
    "\n",
    "import numpy as np\n",
    "import matplotlib.pyplot as plt\n",
    "\n",
    "plt.rcParams['figure.figsize']= [12,4]\n",
    "plt.rcParams.update({'font.size': 18})\n",
    "\n",
    "#Create a simple signal with two frequencies\n",
    "dt = 0.001\n",
    "t = np.arange(0,1,dt)\n",
    "f = np.sin(2*np.pi*50*t) + np.sin(2* np.pi*120*t) #sum of 2 frequencies\n",
    "f_clean = f\n",
    "f = f + 2.5*np.random.randn(len(t)) #add some noise\n",
    "\n",
    "plt.plot(t,f,color='b', label = 'Noisy') #check LineWidth\n",
    "plt.plot(t, f_clean, color='k', label = 'Clean')\n",
    "plt.xlim(t[0], t[-1])\n",
    "plt.legend()"
   ]
  },
  {
   "cell_type": "code",
   "execution_count": null,
   "id": "31c9fd5b",
   "metadata": {},
   "outputs": [],
   "source": [
    "# computing the FFT\n",
    "n = len(t)\n",
    "fhat = np.fft.fft(f,n) # \n",
    "PSD = fhat *np.conj(fhat) /n #PSD = Power Spectral Density\n",
    "freq = (1/(dt*n)) * np.arange(n)\n",
    "L = np.arange(1, np.floor(n/2), dtype = 'int')\n",
    "\n",
    "plt.rcParams['figure.figsize']= [12,8]\n",
    "fig, axs = plt.subplots(2,1)\n",
    "\n",
    "plt.sca(axs[0])\n",
    "plt.plot(t,f,color='b', label = 'Noisy') #check LineWidth\n",
    "plt.plot(t, f_clean, color='k', label = 'Clean')\n",
    "plt.xlim(t[0], t[-1])\n",
    "plt.legend()\n",
    "\n",
    "plt.sca(axs[1])\n",
    "plt.plot(freq[L], PSD[L], color = 'c', label ='Noisy')\n",
    "plt.xlim(freq[L[0]], freq[L[-1]])\n",
    "plt.legend()\n",
    "\n",
    "plt.show()"
   ]
  },
  {
   "cell_type": "code",
   "execution_count": 3,
   "id": "7ad4bb99",
   "metadata": {},
   "outputs": [],
   "source": [
    "# create a filter at 100\n",
    "# use the PSD to filter out the noise\n",
    "\n",
    "indices = PSD > 100 #find all freqs with large power\n",
    "PSDclean = PSD * 100 #zero all out others\n",
    "fhat = indices * fhat\n",
    "ffilt = np.fft.ifft(fhat)"
   ]
  },
  {
   "cell_type": "code",
   "execution_count": null,
   "id": "fd5aaff1",
   "metadata": {},
   "outputs": [],
   "source": [
    "figs, axs = plt.subplots(3,1)\n",
    "\n",
    "plt.sca(axs[0])\n",
    "plt.plot(t,f,color='b', label = 'Noisy') #check LineWidth\n",
    "plt.plot(t, f_clean, color='k', label = 'Clean')\n",
    "plt.xlim(t[0], t[-1])\n",
    "plt.legend()\n",
    "\n",
    "plt.sca(axs[1])\n",
    "plt.plot(t, ffilt, color='k', label='Filtered')\n",
    "plt.xlim(t[0], t[-1])\n",
    "plt.legend()\n",
    "\n",
    "plt.sca(axs[2])\n",
    "plt.plot(freq[L], PSD[L], color='c', label = 'Noisy')\n",
    "plt.plot(freq[L], PSDclean[L], color='k', label='Filtered')\n",
    "plt.xlim(freq[L[0]], freq[L[-1]])\n",
    "plt.legend()\n",
    "\n",
    "plt.show()"
   ]
  },
  {
   "cell_type": "markdown",
   "id": "b2562f9d",
   "metadata": {},
   "source": [
    "## 2. Noisereduce - first attempt !\n",
    "\n",
    "### To do:\n",
    "- trim audio file to max 10 (?)seconds\n",
    "\n",
    "#### Steps of the Stationary Noise Reduction algorithm\n",
    "1. A spectrogram is calculated over the noise audio clip\n",
    "2. Statistics are calculated over spectrogram of the the noise (in frequency)\n",
    "3. A threshold is calculated based upon the statistics of the noise (and the desired sensitivity of the algorithm)\n",
    "4. A spectrogram is calculated over the signal\n",
    "5. A mask is determined by comparing the signal spectrogram to the threshold\n",
    "6. The mask is smoothed with a filter over frequency and time\n",
    "7. The mask is appled to the spectrogram of the signal, and is inverted If the noise signal is not provided, the algorithm will treat the signal as the noise clip, which tends to work pretty well\n",
    "\n",
    "sources: \n",
    "\n",
    "- Pypi: https://pypi.org/project/noisereduce\n",
    "- GitHub: https://github.com/timsainb/noisereduce"
   ]
  },
  {
   "cell_type": "code",
   "execution_count": null,
   "id": "055a675b",
   "metadata": {},
   "outputs": [],
   "source": [
    "from glob import glob\n",
    "my_wavs = glob('*.wav')\n",
    "print(my_wavs)"
   ]
  },
  {
   "cell_type": "code",
   "execution_count": 6,
   "id": "413c1a74",
   "metadata": {},
   "outputs": [],
   "source": [
    "audio_data = my_wavs[1]"
   ]
  },
  {
   "cell_type": "code",
   "execution_count": null,
   "id": "7db6b4b6",
   "metadata": {},
   "outputs": [],
   "source": [
    "import IPython\n",
    "IPython.display.Audio(audio_data)"
   ]
  },
  {
   "cell_type": "code",
   "execution_count": null,
   "id": "2d71f880",
   "metadata": {},
   "outputs": [],
   "source": [
    "#creating a waveplot\n",
    "%matplotlib inline\n",
    "import librosa\n",
    "import matplotlib.pyplot as plt\n",
    "import librosa.display\n",
    "#audio_data = 'claxon_michiel.wav'\n",
    "data , sr = librosa.load(audio_data) #sr = sampling rate\n",
    "plt.figure(figsize=(20, 4))\n",
    "librosa.display.waveshow(data, sr=sr, alpha=0.5) # used to be: librosa.display.waveplot"
   ]
  },
  {
   "cell_type": "code",
   "execution_count": null,
   "id": "d6e7e3c2",
   "metadata": {},
   "outputs": [],
   "source": [
    "#source: https://pypi.org/project/noisereduce/#:~:text=Noise%20reduction%20in%20python%20using,a%20form%20of%20Noise%20Gate.\n",
    "from scipy.io import wavfile\n",
    "import noisereduce as nr\n",
    "# load data\n",
    "librosa.to_mono(data) #convert to mono first\n",
    "rate, data = wavfile.read(audio_data)\n",
    "print(rate)\n",
    "print(type(data))\n",
    "print(len(data))"
   ]
  },
  {
   "cell_type": "code",
   "execution_count": null,
   "id": "b38cbb9e",
   "metadata": {},
   "outputs": [],
   "source": [
    "# perform noise reduction\n",
    "#librosa.to_mono(audio_data)\n",
    "#data = np.reshape(data, (2, -1)) #source:https://stackoverflow.com/questions/70730921/noisereduce-algorithm-in-python-not-working\n",
    "reduced_noise = nr.reduce_noise(y=data, sr=rate)\n",
    "wavfile.write(\"mywav_reduced_noise2.wav\", rate, reduced_noise)"
   ]
  },
  {
   "cell_type": "code",
   "execution_count": null,
   "id": "89782663",
   "metadata": {},
   "outputs": [],
   "source": [
    "#creating a waveplot\n",
    "%matplotlib inline\n",
    "import librosa\n",
    "import matplotlib.pyplot as plt\n",
    "import librosa.display\n",
    "#audio_data = my_wavs[3]\n",
    "x , sr = librosa.load(my_wavs[1]) #sr = sampling rate\n",
    "plt.figure(figsize=(20, 4))\n",
    "librosa.display.waveshow(x, sr=sr) # used to be: librosa.display.waveplot"
   ]
  },
  {
   "cell_type": "code",
   "execution_count": null,
   "id": "e7d27613",
   "metadata": {},
   "outputs": [],
   "source": [
    "IPython.display.Audio(my_wavs[1])"
   ]
  },
  {
   "cell_type": "code",
   "execution_count": null,
   "id": "d7af08db",
   "metadata": {},
   "outputs": [],
   "source": []
  },
  {
   "cell_type": "markdown",
   "id": "91908ed6",
   "metadata": {},
   "source": [
    "## 3. Filter audio with scipy.signal (in progress)\n",
    "source: https://medium.com/analytics-vidhya/how-to-filter-noise-with-a-low-pass-filter-python-885223e5e9b7"
   ]
  },
  {
   "cell_type": "code",
   "execution_count": 16,
   "id": "3b1df551",
   "metadata": {},
   "outputs": [],
   "source": [
    "import numpy as np\n",
    "from scipy.signal import butter, filtfilt\n",
    "# Filter requirements.\n",
    "T = 5.0         # Sample Period\n",
    "fs = 30.0       # sample rate, Hz\n",
    "cutoff = 2      # desired cutoff frequency of the filter, Hz ,      slightly higher than actual 1.2 Hz\n",
    "nyq = 0.5 * fs  # Nyquist Frequency\n",
    "order = 2       # sin wave can be approx represented as quadratic\n",
    "n = int(T * fs) # total number of samples"
   ]
  },
  {
   "cell_type": "code",
   "execution_count": 17,
   "id": "1b127a13",
   "metadata": {},
   "outputs": [],
   "source": [
    "# sin wave\n",
    "sig = np.sin(1.2*2*np.pi*T)\n",
    "# Lets add some noise\n",
    "noise = 1.5*np.cos(9*2*np.pi*T) + 0.5*np.sin(12.0*2*np.pi*T)\n",
    "data = sig + noise"
   ]
  },
  {
   "cell_type": "code",
   "execution_count": null,
   "id": "a02b3bdf",
   "metadata": {},
   "outputs": [],
   "source": [
    "# source\n",
    "\n",
    "import numpy as np\n",
    "from scipy.signal import butter, lfilter, freqz\n",
    "import matplotlib.pyplot as plt\n",
    "\n",
    "\n",
    "def butter_lowpass(cutoff, fs, order=5):\n",
    "    nyq = 0.5 * fs\n",
    "    normal_cutoff = cutoff / nyq\n",
    "    b, a = butter(order, normal_cutoff, btype='low', analog=False)\n",
    "    return b, a\n",
    "\n",
    "def butter_lowpass_filter(data, cutoff, fs, order=5):\n",
    "    b, a = butter_lowpass(cutoff, fs, order=order)\n",
    "    y = lfilter(b, a, data)\n",
    "    return y\n",
    "\n",
    "\n",
    "# Filter requirements.\n",
    "order = 6\n",
    "fs = 30.0       # sample rate, Hz\n",
    "cutoff = 3.667  # desired cutoff frequency of the filter, Hz\n",
    "\n",
    "# Get the filter coefficients so we can check its frequency response.\n",
    "b, a = butter_lowpass(cutoff, fs, order)\n",
    "\n",
    "# Plot the frequency response.\n",
    "w, h = freqz(b, a, worN=8000)\n",
    "plt.subplot(2, 1, 1)\n",
    "plt.plot(0.5*fs*w/np.pi, np.abs(h), 'b')\n",
    "plt.plot(cutoff, 0.5*np.sqrt(2), 'ko')\n",
    "plt.axvline(cutoff, color='k')\n",
    "plt.xlim(0, 0.5*fs)\n",
    "plt.title(\"Lowpass Filter Frequency Response\")\n",
    "plt.xlabel('Frequency [Hz]')\n",
    "plt.grid()\n",
    "\n",
    "\n",
    "# Demonstrate the use of the filter.\n",
    "# First make some data to be filtered.\n",
    "T = 5.0         # seconds\n",
    "n = int(T * fs) # total number of samples\n",
    "t = np.linspace(0, T, n, endpoint=False)\n",
    "# \"Noisy\" data.  We want to recover the 1.2 Hz signal from this.\n",
    "data = np.sin(1.2*2*np.pi*t) + 1.5*np.cos(9*2*np.pi*t) + 0.5*np.sin(12.0*2*np.pi*t)\n",
    "\n",
    "# Filter the data, and plot both the original and filtered signals.\n",
    "y = butter_lowpass_filter(data, cutoff, fs, order)\n",
    "\n",
    "plt.subplot(2, 1, 2)\n",
    "plt.plot(t, data, 'b-', label='data')\n",
    "plt.plot(t, y, 'g-', linewidth=2, label='filtered data')\n",
    "plt.xlabel('Time [sec]')\n",
    "plt.grid()\n",
    "plt.legend()\n",
    "\n",
    "plt.subplots_adjust(hspace=0.35)\n",
    "plt.show()"
   ]
  },
  {
   "cell_type": "code",
   "execution_count": null,
   "id": "8cf7e4e6",
   "metadata": {},
   "outputs": [],
   "source": []
  }
 ],
 "metadata": {
  "kernelspec": {
   "display_name": "base",
   "language": "python",
   "name": "python3"
  },
  "language_info": {
   "codemirror_mode": {
    "name": "ipython",
    "version": 3
   },
   "file_extension": ".py",
   "mimetype": "text/x-python",
   "name": "python",
   "nbconvert_exporter": "python",
   "pygments_lexer": "ipython3",
   "version": "3.12.7"
  }
 },
 "nbformat": 4,
 "nbformat_minor": 5
}
