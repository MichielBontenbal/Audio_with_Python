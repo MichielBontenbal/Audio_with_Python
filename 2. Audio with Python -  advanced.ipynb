{
 "cells": [
  {
   "cell_type": "markdown",
   "metadata": {},
   "source": [
    "# Audio with Python - advanced\n",
    "\n",
    "## Contents\n",
    "1. Resampy - change the sample rate\n",
    "2. Plotting a spectrogram with matplotlib\n",
    "3. SciPy Wavfile\n",
    "4. Librosa\n",
    "6. pyloudnorm"
   ]
  },
  {
   "cell_type": "markdown",
   "metadata": {},
   "source": [
    "## 1. Resampy - change the sample rate"
   ]
  },
  {
   "cell_type": "code",
   "execution_count": null,
   "metadata": {},
   "outputs": [],
   "source": [
    "#only used for demonstration perposes\n",
    "%pip install resampy"
   ]
  },
  {
   "cell_type": "code",
   "execution_count": null,
   "metadata": {},
   "outputs": [],
   "source": [
    "#plot the waveform\n",
    "import librosa\n",
    "import resampy\n",
    "\n",
    "# Load the trumpet audio file from librosa's examples\n",
    "try:\n",
    "    x, sr_orig = librosa.load(librosa.ex('trumpet'), sr=None)\n",
    "except:\n",
    "    import librosa\n",
    "    librosa.util.example_data.download()\n",
    "    x, sr_orig = librosa.load(librosa.ex('trumpet'), sr=None)\n",
    "\n",
    "# x is now a 1-d numpy array, with `sr_orig` audio samples per second\n",
    "\n",
    "# We can resample this to any sampling rate we like, say 16000 Hz\n",
    "y_low = resampy.resample(x, sr_orig, 16000)\n",
    "\n",
    "# That's it!ith `sr_orig` audio samples per second\n",
    "\n",
    "# We can resample this to any sampling rate we like, say 16000 Hz\n",
    "y_low = resampy.resample(x, sr_orig, 16000)\n",
    "\n",
    "# That's it!"
   ]
  },
  {
   "cell_type": "code",
   "execution_count": null,
   "metadata": {},
   "outputs": [],
   "source": [
    "#inspect the data\n",
    "print(type(x))\n",
    "print(type(y_low))\n",
    "\n",
    "print(x)\n",
    "print(y_low)"
   ]
  },
  {
   "cell_type": "markdown",
   "metadata": {},
   "source": [
    "## 2. Plotting a spectogram with matplotlib"
   ]
  },
  {
   "cell_type": "code",
   "execution_count": null,
   "metadata": {},
   "outputs": [],
   "source": [
    "%matplotlib inline\n",
    "# Importing libraries using import keyword.\n",
    "import math\n",
    "import numpy as np\n",
    "import matplotlib.pyplot as plt\n",
    "\n",
    "# Set the time difference to take picture of\n",
    "# the the generated signal.\n",
    "Time_difference = 0.0001\n",
    "\n",
    "# Generating an array of values\n",
    "Time_Array = np.linspace(0, 5, math.ceil(5 / Time_difference))\n",
    "\n",
    "# Actual data array which needs to be plot\n",
    "Data = 20*(np.sin(3 * np.pi * Time_Array))\n",
    "\n",
    "# Matplotlib.pyplot.specgram() function to\n",
    "# generate spectrogram\n",
    "plt.specgram(Data, Fs=6, cmap=\"rainbow\")\n",
    "\n",
    "# Set the title of the plot, xlabel and ylabel\n",
    "# and display using show() function\n",
    "plt.title('Spectrogram Using matplotlib.pyplot.specgram() Method')\n",
    "plt.xlabel(\"DATA\")\n",
    "plt.ylabel(\"TIME\")\n",
    "plt.show()\n"
   ]
  },
  {
   "cell_type": "markdown",
   "metadata": {},
   "source": [
    "## 3. Scipy wavfile"
   ]
  },
  {
   "cell_type": "code",
   "execution_count": null,
   "metadata": {},
   "outputs": [],
   "source": [
    "%matplotlib inline\n",
    "#source:https://gist.github.com/leouieda/9043213 #NOT WORKING\n",
    "# Load the required libraries:\n",
    "from scipy.io import wavfile\n",
    "from matplotlib import pyplot as plt\n",
    "import numpy as np\n",
    "\n",
    "# Load the data and calculate the time of each sample\n",
    "samplerate, data = wavfile.read('tone_220.wav')\n",
    "times = np.arange(len(data))/float(samplerate)\n",
    "\n",
    "# Make the plot\n",
    "# You can tweak the figsize (width, height) in inches\n",
    "plt.figure(figsize=(30, 4))\n",
    "plt.fill_between(times, data[0], color='k') # data[:,1],\n",
    "plt.xlim(times[0], times[-1])\n",
    "plt.xlabel('time (s)')\n",
    "plt.ylabel('amplitude')\n",
    "# You can set the format by changing the extension\n",
    "# like .pdf, .svg, .eps\n",
    "plt.savefig('plot.png', dpi=100)\n",
    "plt.show()"
   ]
  },
  {
   "cell_type": "markdown",
   "metadata": {
    "scrolled": true
   },
   "source": [
    "### 4b. SciPy for out.wav"
   ]
  },
  {
   "cell_type": "code",
   "execution_count": null,
   "metadata": {},
   "outputs": [],
   "source": [
    "from scipy.io import wavfile\n",
    "samplerate, data = wavfile.read('tone_220.wav') #test2 and test3\n",
    "print(samplerate)\n",
    "#print(data.shape)\n",
    "print(data.shape[0])"
   ]
  },
  {
   "cell_type": "code",
   "execution_count": null,
   "metadata": {},
   "outputs": [],
   "source": [
    "length = data.shape[0] / samplerate\n",
    "print(type(data))\n",
    "print(f\"length = {length}s\")\n"
   ]
  },
  {
   "cell_type": "code",
   "execution_count": null,
   "metadata": {},
   "outputs": [],
   "source": [
    "import wave\n",
    "import struct\n",
    "\n",
    "wavefile = wave.open('tone_220.wav', 'r')\n",
    "\n",
    "length = wavefile.getnframes()\n",
    "for i in range(0, length):\n",
    "    wavedata = wavefile.readframes(1)\n",
    "    data = struct.unpack(\"<h\", wavedata)\n",
    "    print(int(data[0]))"
   ]
  },
  {
   "cell_type": "code",
   "execution_count": null,
   "metadata": {},
   "outputs": [],
   "source": [
    "length"
   ]
  },
  {
   "cell_type": "markdown",
   "metadata": {},
   "source": [
    "### 4c. Scipy .io write\n",
    "\n",
    "source: https://docs.scipy.org/doc/scipy/reference/generated/scipy.io.wavfile.write.html"
   ]
  },
  {
   "cell_type": "code",
   "execution_count": null,
   "metadata": {},
   "outputs": [],
   "source": [
    "# Create a 100Hz sine wave, sampled at 44100Hz. Write to 16-bit PCM, Mono.\n",
    "import numpy as np\n",
    "from scipy.io.wavfile import write\n",
    "samplerate = 44100; fs = 100\n",
    "t = np.linspace(0., 1., samplerate)\n",
    "amplitude = np.iinfo(np.int16).max\n",
    "data = amplitude * np.sin(2. * np.pi * fs * t)\n",
    "write(\"example.wav\", samplerate, data.astype(np.int16))"
   ]
  },
  {
   "cell_type": "code",
   "execution_count": null,
   "metadata": {},
   "outputs": [],
   "source": [
    "from IPython import display\n",
    "display.Audio('example.wav')"
   ]
  },
  {
   "cell_type": "markdown",
   "metadata": {},
   "source": [
    "### 4d. Spectogram with SciPy"
   ]
  },
  {
   "cell_type": "code",
   "execution_count": null,
   "metadata": {},
   "outputs": [],
   "source": [
    "import glob\n",
    "wav_files = glob.glob('*.wav')\n",
    "print(wav_files)"
   ]
  },
  {
   "cell_type": "code",
   "execution_count": null,
   "metadata": {},
   "outputs": [],
   "source": [
    "import matplotlib.pyplot as plt\n",
    "from scipy import signal\n",
    "from scipy.io import wavfile\n",
    "\n",
    "sample_rate, samples = wavfile.read('claxon_close.wav')\n",
    "frequencies, times, spectrogram = signal.spectrogram(samples, sample_rate)\n",
    "\n",
    "plt.pcolormesh(times, frequencies, spectrogram)\n",
    "plt.imshow(spectrogram)\n",
    "plt.ylabel('Frequency [Hz]')\n",
    "plt.xlabel('Time [sec]')\n",
    "plt.show()"
   ]
  },
  {
   "cell_type": "markdown",
   "metadata": {},
   "source": [
    "## 4. Librosa\n",
    "- source: https://www.kdnuggets.com/2020/02/audio-data-analysis-deep-learning-python-part-1.html\n",
    "- source: https://librosa.org/doc/latest/index.html"
   ]
  },
  {
   "cell_type": "code",
   "execution_count": null,
   "metadata": {},
   "outputs": [],
   "source": [
    "import librosa\n",
    "librosa.__version__"
   ]
  },
  {
   "cell_type": "code",
   "execution_count": null,
   "metadata": {},
   "outputs": [],
   "source": [
    "from glob import glob\n",
    "files = glob('*.wav')\n",
    "print(files)"
   ]
  },
  {
   "cell_type": "code",
   "execution_count": null,
   "metadata": {},
   "outputs": [],
   "source": [
    "audio_data=files[1]\n",
    "audio_data"
   ]
  },
  {
   "cell_type": "code",
   "execution_count": null,
   "metadata": {},
   "outputs": [],
   "source": [
    "from IPython import display\n",
    "print(audio_data)\n",
    "display.Audio(audio_data)"
   ]
  },
  {
   "cell_type": "code",
   "execution_count": null,
   "metadata": {},
   "outputs": [],
   "source": [
    "import librosa\n",
    "#path = librosa.ex('oe_wavs/record_1630521181')\n",
    "librosa.get_samplerate(audio_data)"
   ]
  },
  {
   "cell_type": "code",
   "execution_count": null,
   "metadata": {},
   "outputs": [],
   "source": [
    "import pandas as pd\n",
    "import numpy as np\n",
    "import matplotlib.pylab as plt\n",
    "import seaborn as sns\n",
    "\n",
    "from glob import glob\n",
    "\n",
    "import librosa\n",
    "import librosa.display\n",
    "import IPython.display as ipd\n",
    "\n",
    "from itertools import cycle\n",
    "\n",
    "sns.set_theme(style=\"white\", palette=None)\n",
    "color_pal = plt.rcParams[\"axes.prop_cycle\"].by_key()[\"color\"]\n",
    "color_cycle = cycle(plt.rcParams[\"axes.prop_cycle\"].by_key()[\"color\"])"
   ]
  },
  {
   "cell_type": "code",
   "execution_count": null,
   "metadata": {},
   "outputs": [],
   "source": [
    "import librosa\n",
    "audio_data = files[1]\n",
    "x , sr = librosa.load(audio_data) #sr = sampling rate\n",
    "print(type(x), type(sr))\n",
    "print(sr)"
   ]
  },
  {
   "cell_type": "code",
   "execution_count": null,
   "metadata": {},
   "outputs": [],
   "source": [
    "#creating a waveplot\n",
    "%matplotlib inline\n",
    "import matplotlib.pyplot as plt\n",
    "import librosa.display\n",
    "plt.figure(figsize=(14, 5))\n",
    "librosa.display.waveplot(x, sr=sr)"
   ]
  },
  {
   "cell_type": "code",
   "execution_count": null,
   "metadata": {
    "scrolled": true
   },
   "outputs": [],
   "source": [
    "#creating a spectrogram\n",
    "X = librosa.stft(x)\n",
    "Xdb = librosa.amplitude_to_db(abs(X))\n",
    "plt.figure(figsize=(14, 5))\n",
    "librosa.display.specshow(Xdb, sr=sr, x_axis='time', y_axis='hz')\n",
    "plt.colorbar()"
   ]
  },
  {
   "cell_type": "code",
   "execution_count": null,
   "metadata": {},
   "outputs": [],
   "source": [
    "from IPython.display import Audio\n",
    "Audio('tone_220.wav')"
   ]
  },
  {
   "cell_type": "markdown",
   "metadata": {},
   "source": [
    "## 5. Pyloudnorm\n",
    "\n",
    "http://en.wikipedia.org/wiki/Loudness"
   ]
  },
  {
   "cell_type": "code",
   "execution_count": null,
   "metadata": {},
   "outputs": [],
   "source": [
    "!pip install pyloudnorm"
   ]
  },
  {
   "cell_type": "code",
   "execution_count": null,
   "metadata": {},
   "outputs": [],
   "source": [
    "# Create a 100Hz sine wave, sampled at 44100Hz. Write to 16-bit PCM, Mono.\n",
    "import numpy as np\n",
    "from scipy.io.wavfile import write\n",
    "samplerate = 44100; fs = 1000\n",
    "t = np.linspace(0., 1., samplerate)\n",
    "amplitude = np.iinfo(np.int16).max\n",
    "data = amplitude * np.sin(2. * np.pi * fs * t)\n",
    "write(\"example.wav\", samplerate, data.astype(np.int16))"
   ]
  },
  {
   "cell_type": "code",
   "execution_count": null,
   "metadata": {},
   "outputs": [],
   "source": [
    "from IPython import display\n",
    "display.Audio('example.wav')"
   ]
  },
  {
   "cell_type": "code",
   "execution_count": null,
   "metadata": {},
   "outputs": [],
   "source": [
    "import glob\n",
    "my_wavs = glob.glob('*.wav')\n",
    "print(my_wavs)"
   ]
  },
  {
   "cell_type": "code",
   "execution_count": null,
   "metadata": {},
   "outputs": [],
   "source": [
    "# source: https://reposhub.com/python/miscellaneous/csteinmetz1-pyloudnorm.html\n",
    "import soundfile as sf\n",
    "import pyloudnorm as pyln\n",
    "\n",
    "for i in range (len(my_wavs)):\n",
    "    data, rate = sf.read(my_wavs[i]) # load audio (with shape (samples, channels))\n",
    "    meter = pyln.Meter(rate) # create BS.1770 meter\n",
    "    loudness = meter.integrated_loudness(data) # measure loudness\n",
    "    print(my_wavs[i], loudness)"
   ]
  },
  {
   "cell_type": "markdown",
   "metadata": {},
   "source": [
    "### 5b. Recording wav and analysing with pyloudnorm"
   ]
  },
  {
   "cell_type": "code",
   "execution_count": null,
   "metadata": {},
   "outputs": [],
   "source": [
    "from datetime import datetime\n",
    "import sounddevice as sd\n",
    "from scipy.io.wavfile import write\n",
    "import soundfile as sf\n",
    "import pyloudnorm as pyln\n",
    "\n",
    "#settings\n",
    "fs = 16000  # Sample rate\n",
    "seconds = 1 # Duration of recording\n",
    "now=datetime.now()\n",
    "#creating a file\n",
    "myrecording = sd.rec(int(seconds * fs), samplerate=fs, channels=1)\n",
    "sd.wait()  # Wait until recording is finished\n",
    "write('loudness.wav', fs, myrecording)  # Save as WAV file \n",
    "#calculate loudness\n",
    "data, rate = sf.read('loudness.wav') # load audio (with shape (samples, channels))\n",
    "meter = pyln.Meter(rate) # create BS.1770 meter\n",
    "loudness = meter.integrated_loudness(data) # measure loudness\n",
    "print(now, loudness)"
   ]
  },
  {
   "cell_type": "code",
   "execution_count": null,
   "metadata": {},
   "outputs": [],
   "source": [
    "for i in range(0,10):\n",
    "    now=datetime.now()\n",
    "    #creating a file\n",
    "    myrecording = sd.rec(int(seconds * fs), samplerate=fs, channels=1)\n",
    "    sd.wait()  # Wait until recording is finished\n",
    "    write('loudness.wav', fs, myrecording)  # Save as WAV file \n",
    "    #calculate loudness\n",
    "    data, rate = sf.read('loudness.wav') # load audio (with shape (samples, channels))\n",
    "    meter = pyln.Meter(rate) # create BS.1770 meter\n",
    "    loudness = meter.integrated_loudness(data) # measure loudness\n",
    "    print(now, loudness)"
   ]
  }
 ],
 "metadata": {
  "kernelspec": {
   "display_name": "base",
   "language": "python",
   "name": "python3"
  },
  "language_info": {
   "codemirror_mode": {
    "name": "ipython",
    "version": 3
   },
   "file_extension": ".py",
   "mimetype": "text/x-python",
   "name": "python",
   "nbconvert_exporter": "python",
   "pygments_lexer": "ipython3",
   "version": "3.12.2"
  }
 },
 "nbformat": 4,
 "nbformat_minor": 4
}
