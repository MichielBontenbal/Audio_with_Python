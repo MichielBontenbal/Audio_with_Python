{
 "cells": [
  {
   "cell_type": "markdown",
   "metadata": {},
   "source": [
    "# Audio with Python - the basics\n",
    "source: https://realpython.com/playing-and-recording-sound-python/\n",
    "\n",
    "## Contents\n",
    "0. Import packages\n",
    "1. Display audio with IPython\n",
    "2. Python's built in 'wave'\n",
    "3. Soundfile\n",
    "4. Pyaudio\n"
   ]
  },
  {
   "cell_type": "markdown",
   "metadata": {},
   "source": [
    "## 0. Install packages"
   ]
  },
  {
   "cell_type": "code",
   "execution_count": null,
   "metadata": {},
   "outputs": [],
   "source": [
    "!pip install playsound"
   ]
  },
  {
   "cell_type": "code",
   "execution_count": null,
   "metadata": {},
   "outputs": [],
   "source": [
    "!pip install simpleaudio"
   ]
  },
  {
   "cell_type": "code",
   "execution_count": null,
   "metadata": {},
   "outputs": [],
   "source": [
    "!!pip install pysoundfile"
   ]
  },
  {
   "cell_type": "code",
   "execution_count": null,
   "metadata": {},
   "outputs": [],
   "source": [
    "pip install pyaudio"
   ]
  },
  {
   "cell_type": "markdown",
   "metadata": {},
   "source": [
    "## 1. Display audio with IPython"
   ]
  },
  {
   "cell_type": "markdown",
   "metadata": {},
   "source": [
    "The IPython.display.Audio(...) command only creates a \"display\" object (in that particular case, an object of the subclass Audio of the class DisplayObject).\n",
    "\n",
    "Afterwards, you may do basic actions with such an object, tied to the class DisplayObject (and specific stuff tied to the class Audio). One of those actions consists of displaying it, by using the IPython.display.display function."
   ]
  },
  {
   "cell_type": "code",
   "execution_count": null,
   "metadata": {},
   "outputs": [],
   "source": [
    "import IPython\n",
    "IPython.display.Audio('tone_220.wav')"
   ]
  },
  {
   "cell_type": "code",
   "execution_count": null,
   "metadata": {},
   "outputs": [],
   "source": [
    "#assign all .wav files to a list\n",
    "from glob import glob\n",
    "wav_files = glob('*.wav')\n",
    "wav_files"
   ]
  },
  {
   "cell_type": "markdown",
   "metadata": {},
   "source": [
    "## 2. Python's built in 'wave'"
   ]
  },
  {
   "cell_type": "code",
   "execution_count": null,
   "metadata": {},
   "outputs": [],
   "source": [
    "import wave\n",
    "filename = wave.open('tone_220.wav')\n",
    "params = wave.Wave_read.getparams(filename)\n",
    "print(params)#prints a tuple"
   ]
  },
  {
   "cell_type": "code",
   "execution_count": null,
   "metadata": {},
   "outputs": [],
   "source": [
    "#selecting segments from a .wav file\n",
    "import wave\n",
    "\n",
    "# times between which to extract the wave from\n",
    "start = 5.2 # seconds\n",
    "end = 78.3 # seconds\n",
    "\n",
    "# file to extract the snippet from\n",
    "with wave.open('my_in_file.wav', \"rb\") as infile:\n",
    "    # get file data\n",
    "    nchannels = infile.getnchannels()\n",
    "    sampwidth = infile.getsampwidth()\n",
    "    framerate = infile.getframerate()\n",
    "    # set position in wave to start of segment\n",
    "    infile.setpos(int(start * framerate))\n",
    "    # extract data\n",
    "    data = infile.readframes(int((end - start) * framerate))"
   ]
  },
  {
   "cell_type": "markdown",
   "metadata": {},
   "source": [
    "## 3. Pysoundfile\n",
    "http://pysoundfile.readthedocs.org/.\n",
    "\n",
    "SoundFile can read and write sound files.\n",
    "SoundFile is an audio library based on libsndfile, CFFI and NumPy. \n",
    "\n",
    "It's a very handy package to inspect .wav files, for example"
   ]
  },
  {
   "cell_type": "code",
   "execution_count": 10,
   "metadata": {},
   "outputs": [],
   "source": [
    "#write a .wav file to a new filename\n",
    "import soundfile as sf\n",
    "\n",
    "data, samplerate = sf.read('tone_220.wav')\n",
    "sf.write('new_file.wav', data, samplerate)"
   ]
  },
  {
   "cell_type": "code",
   "execution_count": null,
   "metadata": {},
   "outputs": [],
   "source": [
    "import soundfile as sf\n",
    "file = sf.SoundFile('tone_220.wav')\n"
   ]
  },
  {
   "cell_type": "code",
   "execution_count": null,
   "metadata": {},
   "outputs": [],
   "source": [
    "print(len(file))\n",
    "print(file.channels)\n",
    "print(file.samplerate)\n",
    "print(file.format)\n",
    "print(file.subtype)\n"
   ]
  },
  {
   "cell_type": "markdown",
   "metadata": {},
   "source": [
    "## 4. Pyaudio\n",
    "source: https://people.csail.mit.edu/hubert/pyaudio/\n",
    "tutorial: https://realpython.com/playing-and-recording-sound-python/\n",
    "\n",
    "#### Installation\n",
    "<b>Windows</b>\n",
    "Install with 'conda install pyaudio' or see this post: https://stackoverflow.com/questions/65276020/i-am-using-python-3-9-and-i-cant-figure-out-how-to-install-pyaudio-in-my-window\n",
    "\n",
    "<b>MacOS</b>\n",
    "Follow the instructions to install Homebrew & the PyAudio package here: https://people.csail.mit.edu/hubert/pyaudio/"
   ]
  },
  {
   "cell_type": "code",
   "execution_count": null,
   "metadata": {},
   "outputs": [],
   "source": [
    "import pyaudio\n",
    "import wave\n",
    " \n",
    "FORMAT = pyaudio.paInt16\n",
    "CHANNELS = 1\n",
    "RATE = 44100\n",
    "CHUNK = 512\n",
    "RECORD_SECONDS = 5\n",
    "WAVE_OUTPUT_FILENAME = \"recordedFile.wav\"\n",
    "device_index = 2\n",
    "audio = pyaudio.PyAudio()\n",
    "\n",
    "print(\"----------------------record device list---------------------\")\n",
    "info = audio.get_host_api_info_by_index(0)\n",
    "numdevices = info.get('deviceCount')\n",
    "for i in range(0, numdevices):\n",
    "        if (audio.get_device_info_by_host_api_device_index(0, i).get('maxInputChannels')) > 0:\n",
    "            print(\"Input Device id \", i, \" - \", audio.get_device_info_by_host_api_device_index(0, i).get('name'))\n",
    "\n",
    "print(\"-------------------------------------------------------------\")\n",
    "\n",
    "index = int(input())\n",
    "print(\"recording via index \"+str(index))\n",
    "\n",
    "stream = audio.open(format=FORMAT, channels=CHANNELS,\n",
    "                rate=RATE, input=True,input_device_index = index,\n",
    "                frames_per_buffer=CHUNK)\n",
    "print (\"recording started\")\n",
    "Recordframes = []\n",
    " \n",
    "for i in range(0, int(RATE / CHUNK * RECORD_SECONDS)):\n",
    "    data = stream.read(CHUNK)\n",
    "    Recordframes.append(data)\n",
    "print (\"recording stopped\")\n",
    " \n",
    "stream.stop_stream()\n",
    "stream.close()\n",
    "audio.terminate()\n",
    " \n",
    "waveFile = wave.open(WAVE_OUTPUT_FILENAME, 'wb')\n",
    "waveFile.setnchannels(CHANNELS)\n",
    "waveFile.setsampwidth(audio.get_sample_size(FORMAT))\n",
    "waveFile.setframerate(RATE)\n",
    "waveFile.writeframes(b''.join(Recordframes))\n",
    "waveFile.close()"
   ]
  },
  {
   "cell_type": "code",
   "execution_count": null,
   "metadata": {},
   "outputs": [],
   "source": [
    "import IPython\n",
    "IPython.display.Audio('recordedFile.wav')"
   ]
  }
 ],
 "metadata": {
  "kernelspec": {
   "display_name": "base",
   "language": "python",
   "name": "python3"
  },
  "language_info": {
   "codemirror_mode": {
    "name": "ipython",
    "version": 3
   },
   "file_extension": ".py",
   "mimetype": "text/x-python",
   "name": "python",
   "nbconvert_exporter": "python",
   "pygments_lexer": "ipython3",
   "version": "3.12.7"
  }
 },
 "nbformat": 4,
 "nbformat_minor": 4
}
