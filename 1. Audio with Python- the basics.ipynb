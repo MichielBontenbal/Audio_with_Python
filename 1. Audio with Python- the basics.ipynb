{
 "cells": [
  {
   "cell_type": "markdown",
   "metadata": {},
   "source": [
    "# Audio with Python - the basics\n",
    "source: https://realpython.com/playing-and-recording-sound-python/\n",
    "\n",
    "## Contents\n",
    "0. Import packages\n",
    "1. Display audio with IPython\n",
    "2. Python's built in 'wave'\n",
    "3. Winsound (note: only works on windows)\n",
    "4. Playsound\n",
    "5. Simpleaudio\n",
    "6. Creating a wav file with numpy\n",
    "7. Pyaudio\n",
    "8. Sounddevice (record .wav files)"
   ]
  },
  {
   "cell_type": "markdown",
   "metadata": {},
   "source": [
    "## 0. Install packages"
   ]
  },
  {
   "cell_type": "code",
   "execution_count": null,
   "metadata": {},
   "outputs": [],
   "source": [
    "!pip install playsound"
   ]
  },
  {
   "cell_type": "code",
   "execution_count": null,
   "metadata": {},
   "outputs": [],
   "source": [
    "!pip install simpleaudio"
   ]
  },
  {
   "cell_type": "code",
   "execution_count": null,
   "metadata": {},
   "outputs": [],
   "source": [
    "!!pip install pysoundfile"
   ]
  },
  {
   "cell_type": "code",
   "execution_count": null,
   "metadata": {},
   "outputs": [],
   "source": [
    "!pip install sounddevice"
   ]
  },
  {
   "cell_type": "markdown",
   "metadata": {},
   "source": [
    "## 1. Display audio with IPython"
   ]
  },
  {
   "cell_type": "code",
   "execution_count": null,
   "metadata": {},
   "outputs": [],
   "source": [
    "pwd"
   ]
  },
  {
   "cell_type": "code",
   "execution_count": null,
   "metadata": {},
   "outputs": [],
   "source": [
    "#show all .wav files in current folder\n",
    "from glob import glob\n",
    "wav_files = glob('*.wav')\n",
    "print(wav_files)"
   ]
  },
  {
   "cell_type": "code",
   "execution_count": null,
   "metadata": {},
   "outputs": [],
   "source": [
    "#most simple\n",
    "import IPython\n",
    "IPython.display.Audio('tone_220.wav')"
   ]
  },
  {
   "cell_type": "markdown",
   "metadata": {},
   "source": [
    "The IPython.display.Audio(...) command only creates a \"display\" object (in that particular case, an object of the subclass Audio of the class DisplayObject).\n",
    "\n",
    "Afterwards, you may do basic actions with such an object, tied to the class DisplayObject (and specific stuff tied to the class Audio). One of those actions consists of displaying it, by using the IPython.display.display function.\n",
    "\n",
    "If you want to display multiple audio files you can do:"
   ]
  },
  {
   "cell_type": "code",
   "execution_count": null,
   "metadata": {},
   "outputs": [],
   "source": [
    "#multiple audio files\n",
    "import IPython\n",
    "print(wav_files[0])\n",
    "IPython.display.display(IPython.display.Audio(wav_files[0]))\n",
    "print(wav_files[1])\n",
    "IPython.display.display(IPython.display.Audio(wav_files[1]))\n",
    "print(wav_files[2])\n",
    "IPython.display.display(IPython.display.Audio(wav_files[2]))"
   ]
  },
  {
   "cell_type": "code",
   "execution_count": null,
   "metadata": {},
   "outputs": [],
   "source": [
    "cd oe_wavs"
   ]
  },
  {
   "cell_type": "code",
   "execution_count": null,
   "metadata": {},
   "outputs": [],
   "source": [
    "from glob import glob\n",
    "wav_files = glob('*.wav')"
   ]
  },
  {
   "cell_type": "code",
   "execution_count": null,
   "metadata": {},
   "outputs": [],
   "source": [
    "#using a for loop for all audio files\n",
    "\n",
    "#multiple audio files\n",
    "import IPython\n",
    "i=0\n",
    "for i in range(len(wav_files)):\n",
    "    print(wav_files[i])\n",
    "    IPython.display.display(IPython.display.Audio(wav_files[i]))\n",
    "    i+1\n"
   ]
  },
  {
   "cell_type": "markdown",
   "metadata": {},
   "source": [
    "## 2. Python's built in 'wave'"
   ]
  },
  {
   "cell_type": "code",
   "execution_count": null,
   "metadata": {},
   "outputs": [],
   "source": [
    "import wave\n",
    "filename = wave.open('test.wav')\n",
    "params = wave.Wave_read.getparams(filename)\n",
    "print(params)#prints a tuple"
   ]
  },
  {
   "cell_type": "code",
   "execution_count": null,
   "metadata": {},
   "outputs": [],
   "source": [
    "#selecting segments from a .wav file\n",
    "import wave\n",
    "\n",
    "# times between which to extract the wave from\n",
    "start = 5.2 # seconds\n",
    "end = 78.3 # seconds\n",
    "\n",
    "# file to extract the snippet from\n",
    "with wave.open('my_in_file.wav', \"rb\") as infile:\n",
    "    # get file data\n",
    "    nchannels = infile.getnchannels()\n",
    "    sampwidth = infile.getsampwidth()\n",
    "    framerate = infile.getframerate()\n",
    "    # set position in wave to start of segment\n",
    "    infile.setpos(int(start * framerate))\n",
    "    # extract data\n",
    "    data = infile.readframes(int((end - start) * framerate))\n",
    "\n",
    "# write the extracted data to a new file\n",
    "with wave.open('my_out_file.wav', 'w') as outfile:\n",
    "    outfile.setnchannels(nchannels)\n",
    "    outfile.setsampwidth(sampwidth)\n",
    "    outfile.setframerate(framerate)\n",
    "    outfile.setnframes(int(len(data) / sampwidth))\n",
    "    outfile.writeframes(data)"
   ]
  },
  {
   "cell_type": "markdown",
   "metadata": {},
   "source": [
    "## 3. Python's built in winsound - only works on Windows, not on apple"
   ]
  },
  {
   "cell_type": "code",
   "execution_count": null,
   "metadata": {},
   "outputs": [],
   "source": [
    "#winsound is a built in function dat creates a beep with a certain frequency.\n",
    "import winsound\n",
    "winsound.Beep(1000, 100)  # Beep at 1000 Hz for 100 ms. Only works with integers!"
   ]
  },
  {
   "cell_type": "code",
   "execution_count": null,
   "metadata": {},
   "outputs": [],
   "source": [
    "# note ladder\n",
    "#source: https://pages.mtu.edu/~suits/notefreqs.html\n",
    "#C4\t261.63\n",
    "#D4\t293.66 \n",
    "#E4\t329.63\n",
    "#F4\t349.23\n",
    "#G4\t392.00\n",
    "#A4\t440.00\n",
    "#B4\t493.88\n",
    "#C5 523\n",
    "my_freqs =[261, 293, 330, 349, 392, 440, 494, 523]\n",
    "for i in range(len(my_freqs)):\n",
    "    winsound.Beep(my_freqs[i], 500)"
   ]
  },
  {
   "cell_type": "markdown",
   "metadata": {},
   "source": [
    "## 4. Playsound\n",
    "Simple library to play audio files"
   ]
  },
  {
   "cell_type": "code",
   "execution_count": null,
   "metadata": {},
   "outputs": [],
   "source": [
    "from glob import glob\n",
    "my_mp3s= glob('*.mp3')\n",
    "my_mp3s"
   ]
  },
  {
   "cell_type": "code",
   "execution_count": null,
   "metadata": {},
   "outputs": [],
   "source": [
    "#Play an audiofile with one line of code! Can't stop the music. \n",
    "from playsound import playsound\n",
    "playsound('welcome.mp3')"
   ]
  },
  {
   "cell_type": "markdown",
   "metadata": {},
   "source": [
    "## 5. Simpleaudio - play (only) wav files"
   ]
  },
  {
   "cell_type": "code",
   "execution_count": null,
   "metadata": {},
   "outputs": [],
   "source": [
    "# simple script to play a .wav file\n",
    "import simpleaudio as sa\n",
    "\n",
    "filename = 'out.wav' #mijn hallo \n",
    "wave_obj = sa.WaveObject.from_wave_file(filename)\n",
    "play_obj = wave_obj.play()\n",
    "play_obj.wait_done()  # Wait until sound has finished playing"
   ]
  },
  {
   "cell_type": "markdown",
   "metadata": {},
   "source": [
    "## 6. Pysoundfile\n",
    "http://pysoundfile.readthedocs.org/.\n",
    "\n",
    "SoundFile can read and write sound files.\n",
    "SoundFile is an audio library based on libsndfile, CFFI and NumPy. \n",
    "\n",
    "It's a very handy package to inspect .wav files, for example"
   ]
  },
  {
   "cell_type": "code",
   "execution_count": null,
   "metadata": {},
   "outputs": [],
   "source": [
    "#write a .wav file to a new filename\n",
    "import soundfile as sf\n",
    "\n",
    "data, samplerate = sf.read('piano_c.wav')\n",
    "sf.write('new_file.wav', data, samplerate)"
   ]
  },
  {
   "cell_type": "markdown",
   "metadata": {},
   "source": [
    "### 5b. Inspecting a wav file"
   ]
  },
  {
   "cell_type": "code",
   "execution_count": null,
   "metadata": {},
   "outputs": [],
   "source": [
    "cd oe_wavs"
   ]
  },
  {
   "cell_type": "code",
   "execution_count": null,
   "metadata": {},
   "outputs": [],
   "source": [
    "ls"
   ]
  },
  {
   "cell_type": "code",
   "execution_count": null,
   "metadata": {},
   "outputs": [],
   "source": [
    "import soundfile as sf\n",
    "file = sf.SoundFile('record_1630520761.wav')\n",
    "len(file), file.channels, file.samplerate"
   ]
  },
  {
   "cell_type": "code",
   "execution_count": null,
   "metadata": {},
   "outputs": [],
   "source": [
    "from glob import glob\n",
    "import IPython\n",
    "\n",
    "my_wavs = glob('*.wav')\n",
    "\n",
    "IPython.display.Audio(my_wavs[1])"
   ]
  },
  {
   "cell_type": "code",
   "execution_count": null,
   "metadata": {},
   "outputs": [],
   "source": []
  },
  {
   "cell_type": "code",
   "execution_count": null,
   "metadata": {},
   "outputs": [],
   "source": [
    "file.format, file.subtype, file.endian"
   ]
  },
  {
   "cell_type": "code",
   "execution_count": null,
   "metadata": {},
   "outputs": [],
   "source": [
    "test = file.read()\n",
    "test.shape"
   ]
  },
  {
   "cell_type": "code",
   "execution_count": null,
   "metadata": {},
   "outputs": [],
   "source": [
    "import matplotlib.pyplot as plt\n",
    "plt.plot(test)"
   ]
  },
  {
   "cell_type": "markdown",
   "metadata": {},
   "source": [
    "## 7. Pyaudio\n",
    "source: https://people.csail.mit.edu/hubert/pyaudio/\n",
    "tutorial: https://realpython.com/playing-and-recording-sound-python/\n",
    "\n",
    "#### Installation\n",
    "<b>Windows</b>\n",
    "Install with 'conda install pyaudio' or see this post: https://stackoverflow.com/questions/65276020/i-am-using-python-3-9-and-i-cant-figure-out-how-to-install-pyaudio-in-my-window\n",
    "\n",
    "<b>MacOS</b>\n",
    "Follow the instructions to install Homebrew & the PyAudio package here: https://people.csail.mit.edu/hubert/pyaudio/"
   ]
  },
  {
   "cell_type": "code",
   "execution_count": null,
   "metadata": {},
   "outputs": [],
   "source": [
    "import glob\n",
    "my_wavs = glob.glob('*.wav')\n",
    "print(my_wavs)"
   ]
  },
  {
   "cell_type": "code",
   "execution_count": null,
   "metadata": {},
   "outputs": [],
   "source": [
    "import pyaudio\n",
    "import wave\n",
    "\n",
    "filename = my_wavs[0]\n",
    "\n",
    "# Set chunk size of 1024 samples per data frame\n",
    "chunk = 1024  \n",
    "\n",
    "# Open the sound file with built in module p\n",
    "wf = wave.open(filename, 'rb')\n",
    "\n",
    "# Create an interface to PortAudio\n",
    "p = pyaudio.PyAudio()\n",
    "\n",
    "# Open a .Stream object to write the WAV file to\n",
    "# 'output = True' indicates that the sound will be played rather than recorded\n",
    "stream = p.open(format = p.get_format_from_width(wf.getsampwidth()),\n",
    "                channels = wf.getnchannels(),\n",
    "                rate = wf.getframerate(),\n",
    "                output = True)\n",
    "\n",
    "# Read data in chunks\n",
    "data = wf.readframes(chunk)\n",
    "\n",
    "# Play the sound by writing the audio data to the stream\n",
    "while data != '':\n",
    "    stream.write(data)\n",
    "    data = wf.readframes(chunk)\n",
    "\n",
    "# Close and terminate the stream\n",
    "stream.close()\n",
    "p.terminate()"
   ]
  },
  {
   "cell_type": "code",
   "execution_count": 1,
   "metadata": {},
   "outputs": [
    {
     "ename": "ModuleNotFoundError",
     "evalue": "No module named 'pyaudio'",
     "output_type": "error",
     "traceback": [
      "\u001b[0;31m---------------------------------------------------------------------------\u001b[0m",
      "\u001b[0;31mModuleNotFoundError\u001b[0m                       Traceback (most recent call last)",
      "Cell \u001b[0;32mIn[1], line 1\u001b[0m\n\u001b[0;32m----> 1\u001b[0m \u001b[38;5;28;01mimport\u001b[39;00m \u001b[38;5;21;01mpyaudio\u001b[39;00m\n\u001b[1;32m      2\u001b[0m \u001b[38;5;28;01mimport\u001b[39;00m \u001b[38;5;21;01mwave\u001b[39;00m\n\u001b[1;32m      4\u001b[0m FORMAT \u001b[38;5;241m=\u001b[39m pyaudio\u001b[38;5;241m.\u001b[39mpaInt16\n",
      "\u001b[0;31mModuleNotFoundError\u001b[0m: No module named 'pyaudio'"
     ]
    }
   ],
   "source": [
    "import pyaudio\n",
    "import wave\n",
    " \n",
    "FORMAT = pyaudio.paInt16\n",
    "CHANNELS = 1\n",
    "RATE = 44100\n",
    "CHUNK = 512\n",
    "RECORD_SECONDS = 5\n",
    "WAVE_OUTPUT_FILENAME = \"recordedFile.wav\"\n",
    "device_index = 2\n",
    "audio = pyaudio.PyAudio()\n",
    "\n",
    "print(\"----------------------record device list---------------------\")\n",
    "info = audio.get_host_api_info_by_index(0)\n",
    "numdevices = info.get('deviceCount')\n",
    "for i in range(0, numdevices):\n",
    "        if (audio.get_device_info_by_host_api_device_index(0, i).get('maxInputChannels')) > 0:\n",
    "            print(\"Input Device id \", i, \" - \", audio.get_device_info_by_host_api_device_index(0, i).get('name'))\n",
    "\n",
    "print(\"-------------------------------------------------------------\")\n",
    "\n",
    "index = int(input())\n",
    "print(\"recording via index \"+str(index))\n",
    "\n",
    "stream = audio.open(format=FORMAT, channels=CHANNELS,\n",
    "                rate=RATE, input=True,input_device_index = index,\n",
    "                frames_per_buffer=CHUNK)\n",
    "print (\"recording started\")\n",
    "Recordframes = []\n",
    " \n",
    "for i in range(0, int(RATE / CHUNK * RECORD_SECONDS)):\n",
    "    data = stream.read(CHUNK)\n",
    "    Recordframes.append(data)\n",
    "print (\"recording stopped\")\n",
    " \n",
    "stream.stop_stream()\n",
    "stream.close()\n",
    "audio.terminate()\n",
    " \n",
    "waveFile = wave.open(WAVE_OUTPUT_FILENAME, 'wb')\n",
    "waveFile.setnchannels(CHANNELS)\n",
    "waveFile.setsampwidth(audio.get_sample_size(FORMAT))\n",
    "waveFile.setframerate(RATE)\n",
    "waveFile.writeframes(b''.join(Recordframes))\n",
    "waveFile.close()"
   ]
  },
  {
   "cell_type": "code",
   "execution_count": null,
   "metadata": {},
   "outputs": [],
   "source": [
    "import IPython\n",
    "IPython.display.Audio('recordedFile.wav')"
   ]
  },
  {
   "cell_type": "markdown",
   "metadata": {},
   "source": [
    "## 8. Sounddevice (record .wav files)\n",
    "source: https://realpython.com/playing-and-recording-sound-python/#recording-audio\n",
    "source: https://python-sounddevice.readthedocs.io/en/latest/"
   ]
  },
  {
   "cell_type": "code",
   "execution_count": null,
   "metadata": {},
   "outputs": [],
   "source": []
  },
  {
   "cell_type": "code",
   "execution_count": null,
   "metadata": {},
   "outputs": [],
   "source": [
    "import sounddevice as sd\n",
    "from scipy.io.wavfile import write\n",
    "\n",
    "fs = 16000  # Sample rate\n",
    "seconds = 10  # Duration of recording\n",
    "\n",
    "myrecording = sd.rec(int(seconds * fs), samplerate=fs, channels=2)\n",
    "sd.wait()  # Wait until recording is finished\n",
    "write('robot3.wav', fs, myrecording)  # Save as WAV file "
   ]
  },
  {
   "cell_type": "code",
   "execution_count": null,
   "metadata": {},
   "outputs": [],
   "source": [
    "import glob\n",
    "wav_files = glob.glob('*.wav')\n",
    "print(wav_files)"
   ]
  },
  {
   "cell_type": "code",
   "execution_count": null,
   "metadata": {},
   "outputs": [],
   "source": [
    "from IPython import display\n",
    "display.Audio('my_test.wav')"
   ]
  },
  {
   "cell_type": "code",
   "execution_count": null,
   "metadata": {},
   "outputs": [],
   "source": [
    "%matplotlib inline\n",
    "#!/usr/bin/env python3\n",
    "\"\"\"Plot the live microphone signal(s) with matplotlib.\n",
    "\n",
    "Matplotlib and NumPy have to be installed.\n",
    "\n",
    "\"\"\"\n",
    "import argparse\n",
    "import queue\n",
    "import sys\n",
    "\n",
    "from matplotlib.animation import FuncAnimation\n",
    "import matplotlib.pyplot as plt\n",
    "import numpy as np\n",
    "import sounddevice as sd\n",
    "\n",
    "\n",
    "def int_or_str(text):\n",
    "    \"\"\"Helper function for argument parsing.\"\"\"\n",
    "    try:\n",
    "        return int(text)\n",
    "    except ValueError:\n",
    "        return text\n",
    "\n",
    "\n",
    "parser = argparse.ArgumentParser(add_help=False)\n",
    "parser.add_argument(\n",
    "    '-l', '--list-devices', action='store_true',\n",
    "    help='show list of audio devices and exit')\n",
    "args, remaining = parser.parse_known_args()\n",
    "if args.list_devices:\n",
    "    print(sd.query_devices())\n",
    "    parser.exit(0)\n",
    "parser = argparse.ArgumentParser(\n",
    "    description=__doc__,\n",
    "    formatter_class=argparse.RawDescriptionHelpFormatter,\n",
    "    parents=[parser])\n",
    "parser.add_argument(\n",
    "    'channels', type=int, default=[1], nargs='*', metavar='CHANNEL',\n",
    "    help='input channels to plot (default: the first)')\n",
    "parser.add_argument(\n",
    "    '-d', '--device', type=int_or_str,\n",
    "    help='input device (numeric ID or substring)')\n",
    "parser.add_argument(\n",
    "    '-w', '--window', type=float, default=200, metavar='DURATION',\n",
    "    help='visible time slot (default: %(default)s ms)')\n",
    "parser.add_argument(\n",
    "    '-i', '--interval', type=float, default=30,\n",
    "    help='minimum time between plot updates (default: %(default)s ms)')\n",
    "parser.add_argument(\n",
    "    '-b', '--blocksize', type=int, help='block size (in samples)')\n",
    "parser.add_argument(\n",
    "    '-r', '--samplerate', type=float, help='sampling rate of audio device')\n",
    "parser.add_argument(\n",
    "    '-n', '--downsample', type=int, default=10, metavar='N',\n",
    "    help='display every Nth sample (default: %(default)s)')\n",
    "args = parser.parse_args(remaining)\n",
    "if any(c < 1 for c in args.channels):\n",
    "    parser.error('argument CHANNEL: must be >= 1')\n",
    "mapping = [c - 1 for c in args.channels]  # Channel numbers start with 1\n",
    "q = queue.Queue()\n",
    "\n",
    "\n",
    "def audio_callback(indata, frames, time, status):\n",
    "    \"\"\"This is called (from a separate thread) for each audio block.\"\"\"\n",
    "    if status:\n",
    "        print(status, file=sys.stderr)\n",
    "    # Fancy indexing with mapping creates a (necessary!) copy:\n",
    "    q.put(indata[::args.downsample, mapping])\n",
    "\n",
    "\n",
    "def update_plot(frame):\n",
    "    \"\"\"This is called by matplotlib for each plot update.\n",
    "\n",
    "    Typically, audio callbacks happen more frequently than plot updates,\n",
    "    therefore the queue tends to contain multiple blocks of audio data.\n",
    "\n",
    "    \"\"\"\n",
    "    global plotdata\n",
    "    while True:\n",
    "        try:\n",
    "            data = q.get_nowait()\n",
    "        except queue.Empty:\n",
    "            break\n",
    "        shift = len(data)\n",
    "        plotdata = np.roll(plotdata, -shift, axis=0)\n",
    "        plotdata[-shift:, :] = data\n",
    "    for column, line in enumerate(lines):\n",
    "        line.set_ydata(plotdata[:, column])\n",
    "    return lines\n",
    "\n",
    "\n",
    "try:\n",
    "    if args.samplerate is None:\n",
    "        device_info = sd.query_devices(args.device, 'input')\n",
    "        args.samplerate = device_info['default_samplerate']\n",
    "\n",
    "    length = int(args.window * args.samplerate / (1000 * args.downsample))\n",
    "    plotdata = np.zeros((length, len(args.channels)))\n",
    "\n",
    "    fig, ax = plt.subplots()\n",
    "    lines = ax.plot(plotdata)\n",
    "    if len(args.channels) > 1:\n",
    "        ax.legend([f'channel {c}' for c in args.channels],\n",
    "                  loc='lower left', ncol=len(args.channels))\n",
    "    ax.axis((0, len(plotdata), -1, 1))\n",
    "    ax.set_yticks([0])\n",
    "    ax.yaxis.grid(True)\n",
    "    ax.tick_params(bottom=False, top=False, labelbottom=False,\n",
    "                   right=False, left=False, labelleft=False)\n",
    "    fig.tight_layout(pad=0)\n",
    "\n",
    "    stream = sd.InputStream(\n",
    "        device=args.device, channels=max(args.channels),\n",
    "        samplerate=args.samplerate, callback=audio_callback)\n",
    "    ani = FuncAnimation(fig, update_plot, interval=args.interval, blit=True)\n",
    "    with stream:\n",
    "        plt.show()\n",
    "except Exception as e:\n",
    "    parser.exit(type(e).__name__ + ': ' + str(e))"
   ]
  },
  {
   "cell_type": "code",
   "execution_count": null,
   "metadata": {},
   "outputs": [],
   "source": [
    "%matplotlib inline\n",
    "#!/usr/bin/env python3\n",
    "\"\"\"Show a text-mode spectrogram using live microphone data.\"\"\"\n",
    "import argparse\n",
    "import math\n",
    "import shutil\n",
    "\n",
    "import numpy as np\n",
    "import sounddevice as sd\n",
    "\n",
    "usage_line = ' press <enter> to quit, +<enter> or -<enter> to change scaling '\n",
    "\n",
    "\n",
    "def int_or_str(text):\n",
    "    \"\"\"Helper function for argument parsing.\"\"\"\n",
    "    try:\n",
    "        return int(text)\n",
    "    except ValueError:\n",
    "        return text\n",
    "\n",
    "\n",
    "try:\n",
    "    columns, _ = shutil.get_terminal_size()\n",
    "except AttributeError:\n",
    "    columns = 80\n",
    "\n",
    "parser = argparse.ArgumentParser(add_help=False)\n",
    "parser.add_argument(\n",
    "    '-l', '--list-devices', action='store_true',\n",
    "    help='show list of audio devices and exit')\n",
    "args, remaining = parser.parse_known_args()\n",
    "if args.list_devices:\n",
    "    print(sd.query_devices())\n",
    "    parser.exit(0)\n",
    "parser = argparse.ArgumentParser(\n",
    "    description=__doc__ + '\\n\\nSupported keys:' + usage_line,\n",
    "    formatter_class=argparse.RawDescriptionHelpFormatter,\n",
    "    parents=[parser])\n",
    "parser.add_argument(\n",
    "    '-b', '--block-duration', type=float, metavar='DURATION', default=50,\n",
    "    help='block size (default %(default)s milliseconds)')\n",
    "parser.add_argument(\n",
    "    '-c', '--columns', type=int, default=columns,\n",
    "    help='width of spectrogram')\n",
    "parser.add_argument(\n",
    "    '-d', '--device', type=int_or_str,\n",
    "    help='input device (numeric ID or substring)')\n",
    "parser.add_argument(\n",
    "    '-g', '--gain', type=float, default=10,\n",
    "    help='initial gain factor (default %(default)s)')\n",
    "parser.add_argument(\n",
    "    '-r', '--range', type=float, nargs=2,\n",
    "    metavar=('LOW', 'HIGH'), default=[100, 2000],\n",
    "    help='frequency range (default %(default)s Hz)')\n",
    "args = parser.parse_args(remaining)\n",
    "low, high = args.range\n",
    "if high <= low:\n",
    "    parser.error('HIGH must be greater than LOW')\n",
    "\n",
    "# Create a nice output gradient using ANSI escape sequences.\n",
    "# Stolen from https://gist.github.com/maurisvh/df919538bcef391bc89f\n",
    "colors = 30, 34, 35, 91, 93, 97\n",
    "chars = ' :%#\\t#%:'\n",
    "gradient = []\n",
    "for bg, fg in zip(colors, colors[1:]):\n",
    "    for char in chars:\n",
    "        if char == '\\t':\n",
    "            bg, fg = fg, bg\n",
    "        else:\n",
    "            gradient.append(f'\\x1b[{fg};{bg + 10}m{char}')\n",
    "\n",
    "try:\n",
    "    samplerate = sd.query_devices(args.device, 'input')['default_samplerate']\n",
    "\n",
    "    delta_f = (high - low) / (args.columns - 1)\n",
    "    fftsize = math.ceil(samplerate / delta_f)\n",
    "    low_bin = math.floor(low / delta_f)\n",
    "\n",
    "    def callback(indata, frames, time, status):\n",
    "        if status:\n",
    "            text = ' ' + str(status) + ' '\n",
    "            print('\\x1b[34;40m', text.center(args.columns, '#'),\n",
    "                  '\\x1b[0m', sep='')\n",
    "        if any(indata):\n",
    "            magnitude = np.abs(np.fft.rfft(indata[:, 0], n=fftsize))\n",
    "            magnitude *= args.gain / fftsize\n",
    "            line = (gradient[int(np.clip(x, 0, 1) * (len(gradient) - 1))]\n",
    "                    for x in magnitude[low_bin:low_bin + args.columns])\n",
    "            print(*line, sep='', end='\\x1b[0m\\n')\n",
    "        else:\n",
    "            print('no input')\n",
    "\n",
    "    with sd.InputStream(device=args.device, channels=1, callback=callback,\n",
    "                        blocksize=int(samplerate * args.block_duration / 1000),\n",
    "                        samplerate=samplerate):\n",
    "        while True:\n",
    "            response = input()\n",
    "            if response in ('', 'q', 'Q'):\n",
    "                break\n",
    "            for ch in response:\n",
    "                if ch == '+':\n",
    "                    args.gain *= 2\n",
    "                elif ch == '-':\n",
    "                    args.gain /= 2\n",
    "                else:\n",
    "                    print('\\x1b[31;40m', usage_line.center(args.columns, '#'),\n",
    "                          '\\x1b[0m', sep='')\n",
    "                    break\n",
    "except KeyboardInterrupt:\n",
    "    parser.exit('Interrupted by user')\n",
    "except Exception as e:\n",
    "    parser.exit(type(e).__name__ + ': ' + str(e))"
   ]
  },
  {
   "cell_type": "code",
   "execution_count": null,
   "metadata": {},
   "outputs": [],
   "source": []
  }
 ],
 "metadata": {
  "kernelspec": {
   "display_name": "Python 3 (ipykernel)",
   "language": "python",
   "name": "python3"
  },
  "language_info": {
   "codemirror_mode": {
    "name": "ipython",
    "version": 3
   },
   "file_extension": ".py",
   "mimetype": "text/x-python",
   "name": "python",
   "nbconvert_exporter": "python",
   "pygments_lexer": "ipython3",
   "version": "3.10.9"
  }
 },
 "nbformat": 4,
 "nbformat_minor": 4
}
